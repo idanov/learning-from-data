{
 "cells": [
  {
   "cell_type": "code",
   "execution_count": 1,
   "metadata": {
    "collapsed": true
   },
   "outputs": [],
   "source": [
    "%matplotlib inline\n",
    "\n",
    "import numpy as np\n",
    "import matplotlib.pyplot as plt"
   ]
  },
  {
   "cell_type": "code",
   "execution_count": 2,
   "metadata": {
    "collapsed": true
   },
   "outputs": [],
   "source": [
    "R = 1000\n",
    "d = 2\n",
    "N = 100\n",
    "N_test = 1000"
   ]
  },
  {
   "cell_type": "code",
   "execution_count": 3,
   "metadata": {
    "collapsed": false
   },
   "outputs": [],
   "source": [
    "def experiment():\n",
    "    # Generate a random line (function f)\n",
    "    points = np.random.uniform(-1, +1, (d, d))\n",
    "    # Standard form of line equation\n",
    "    w = np.linalg.inv(points).dot(np.ones(d))\n",
    "    line = lambda x: (1 - w[0] * x) / w[1]\n",
    "    \n",
    "    # Generate training points    \n",
    "    D_train = np.random.uniform(-1, +1, (N, d))\n",
    "    y_train = (np.sign(D_train.dot(w) - 1))\n",
    "    D_pos = D_train[y_train > 0]\n",
    "    D_neg = D_train[y_train <= 0]\n",
    "    \n",
    "    # Generate test points\n",
    "    D_test = np.random.uniform(-1, +1, (N_test, d))\n",
    "    y_test = (np.sign(D_test.dot(w) - 1))\n",
    "    D_test = np.hstack((np.ones((N_test, 1)), D_test))\n",
    "    \n",
    "    # Run PLA\n",
    "    D_train = np.hstack((np.ones((N, 1)), D_train))\n",
    "    w_tr = np.zeros(d + 1)\n",
    "    i = 0\n",
    "    while True:\n",
    "        i = i + 1\n",
    "        y_pred = np.sign(D_train.dot(w_tr))\n",
    "        if (y_pred == y_train).all():\n",
    "            break;\n",
    "        idx = np.random.choice((y_train - y_pred).nonzero()[0])\n",
    "        w_tr = w_tr + y_train[idx] * D_train[idx,:]\n",
    "    decision_line = lambda x: -(w_tr[0] + w_tr[1] * x) / w_tr[2]\n",
    "    y_test_pred = np.sign(D_test.dot(w_tr))\n",
    "    prob = (y_test_pred != y_test).nonzero()[0].size / float(N_test)\n",
    "    return (i, prob)\n",
    "    # Draw the line    \n",
    "#     fig = plt.figure()\n",
    "#     ax = fig.add_subplot(111)\n",
    "#     plt.plot([-1, 1], [line(-1), line(1)])\n",
    "#     plt.scatter(points[:,0], points[:,1], s=30, c='b')\n",
    "#     plt.scatter(D_pos[:,0], D_pos[:,1], s=30, c='g')\n",
    "#     plt.scatter(D_neg[:,0], D_neg[:,1], s=30, c='r')\n",
    "#     plt.plot([-1, 1], [decision_line(-1), decision_line(1)], c='m')\n",
    "#     plt.show()"
   ]
  },
  {
   "cell_type": "code",
   "execution_count": 4,
   "metadata": {
    "collapsed": false
   },
   "outputs": [
    {
     "data": {
      "text/plain": [
       "array([  1.19358000e+02,   1.40150000e-02])"
      ]
     },
     "execution_count": 4,
     "metadata": {},
     "output_type": "execute_result"
    }
   ],
   "source": [
    "abc = np.array([np.asarray(experiment()) for i in range(0, R)])\n",
    "np.average(abc, axis = 0)"
   ]
  },
  {
   "cell_type": "code",
   "execution_count": null,
   "metadata": {
    "collapsed": true
   },
   "outputs": [],
   "source": []
  }
 ],
 "metadata": {
  "kernelspec": {
   "display_name": "Python 3",
   "language": "python",
   "name": "python3"
  },
  "language_info": {
   "codemirror_mode": {
    "name": "ipython",
    "version": 3
   },
   "file_extension": ".py",
   "mimetype": "text/x-python",
   "name": "python",
   "nbconvert_exporter": "python",
   "pygments_lexer": "ipython3",
   "version": "3.4.3"
  }
 },
 "nbformat": 4,
 "nbformat_minor": 0
}
