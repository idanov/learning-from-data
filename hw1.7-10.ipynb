{
 "cells": [
  {
   "cell_type": "code",
   "execution_count": 1,
   "metadata": {
    "collapsed": true
   },
   "outputs": [],
   "source": [
    "%matplotlib inline\n",
    "\n",
    "import numpy as np\n",
    "import matplotlib.pyplot as plt"
   ]
  },
  {
   "cell_type": "code",
   "execution_count": 2,
   "metadata": {
    "collapsed": true
   },
   "outputs": [],
   "source": [
    "def PLA(X_train, y_train):\n",
    "    # Run PLA\n",
    "    N = X_train.shape[0]\n",
    "    d = X_train.shape[1]\n",
    "    w_tr = np.zeros(d)\n",
    "    i = 0\n",
    "    while True:\n",
    "        i = i + 1\n",
    "        y_pred = np.sign(X_train.dot(w_tr))\n",
    "        if np.all(y_pred == y_train):\n",
    "            break;\n",
    "        idx = np.random.choice((y_train - y_pred).nonzero()[0])\n",
    "        w_tr = w_tr + y_train[idx] * X_train[idx,:]\n",
    "    return (i, w_tr)"
   ]
  },
  {
   "cell_type": "code",
   "execution_count": 3,
   "metadata": {
    "collapsed": true
   },
   "outputs": [],
   "source": [
    "def draw_line(fline, gline, D, y, points):\n",
    "    # One can use it to visualize the positive and negative points,\n",
    "    # as well as the real (f) and estimated (g) functions\n",
    "    D_pos = D[y > 0]\n",
    "    D_neg = D[y <= 0]\n",
    "    fig = plt.figure()\n",
    "    ax = fig.add_subplot(111)\n",
    "    plt.plot([-1, 1], [fline(-1), fline(1)])\n",
    "    plt.scatter(points[:,0], points[:,1], s=30, c='b')\n",
    "    plt.scatter(D_pos[:,0], D_pos[:,1], s=30, c='g')\n",
    "    plt.scatter(D_neg[:,0], D_neg[:,1], s=30, c='r')\n",
    "    plt.plot([-1, 1], [gline(-1), gline(1)], c='m')\n",
    "    plt.show()"
   ]
  },
  {
   "cell_type": "code",
   "execution_count": 4,
   "metadata": {
    "collapsed": false
   },
   "outputs": [],
   "source": [
    "def experiment(d, N, N_test):\n",
    "    # Generate a random line (function f)\n",
    "    points = np.random.uniform(-1, +1, (d, d))\n",
    "    # Standard form of line equation Ax + By - C = 0 (C is conveniently set to 1)\n",
    "    w = np.linalg.inv(points).dot(np.ones(d))\n",
    "    w = np.hstack((-1, w)) # Add -C to the params\n",
    "    \n",
    "    # Generate training points\n",
    "    D_train = np.random.uniform(-1, +1, (N, d))\n",
    "    D_train = np.hstack((np.ones((N, 1)), D_train)) # Add auxiliary dimension\n",
    "    y_train = (np.sign(D_train.dot(w)))\n",
    "    \n",
    "    # Generate test points\n",
    "    D_test = np.random.uniform(-1, +1, (N_test, d))\n",
    "    D_test = np.hstack((np.ones((N_test, 1)), D_test)) # Add auxiliary dimension\n",
    "    y_test = np.sign(D_test.dot(w))\n",
    "    \n",
    "    iters, w_tr = PLA(D_train, y_train)\n",
    "    y_pred = np.sign(D_test.dot(w_tr))\n",
    "    err_rate = (y_pred != y_test).nonzero()[0].size / float(N_test)\n",
    "    \n",
    "#     fline = lambda x: -(w[0] + w[1] * x) / w[2]\n",
    "#     gline = lambda x: -(w_tr[0] + w_tr[1] * x) / w_tr[2]\n",
    "#     draw_line(fline, gline, D_train, y_train, points)\n",
    "\n",
    "    return (iters, err_rate)"
   ]
  },
  {
   "cell_type": "code",
   "execution_count": 5,
   "metadata": {
    "collapsed": false
   },
   "outputs": [],
   "source": [
    "d = 2\n",
    "N_test = 1000\n",
    "R = 1000"
   ]
  },
  {
   "cell_type": "code",
   "execution_count": 6,
   "metadata": {
    "collapsed": false
   },
   "outputs": [
    {
     "name": "stdout",
     "output_type": "stream",
     "text": [
      "N = 10 , [iters, err_rate] = [ 10.445      0.107493]\n"
     ]
    }
   ],
   "source": [
    "N = 10\n",
    "res = np.array([np.asarray(experiment(d, N, N_test)) for i in range(0, R)])\n",
    "avg_res = np.average(res, axis = 0)\n",
    "print(\"N =\", N, \", [iters, err_rate] =\", avg_res)"
   ]
  },
  {
   "cell_type": "code",
   "execution_count": 7,
   "metadata": {
    "collapsed": false
   },
   "outputs": [
    {
     "name": "stdout",
     "output_type": "stream",
     "text": [
      "N = 100 , [iters, err_rate] = [  1.03444000e+02   1.35320000e-02]\n"
     ]
    }
   ],
   "source": [
    "N = 100\n",
    "res = np.array([np.asarray(experiment(d, N, N_test)) for i in range(0, R)])\n",
    "avg_res = np.average(res, axis = 0)\n",
    "print(\"N =\", N, \", [iters, err_rate] =\", avg_res)"
   ]
  }
 ],
 "metadata": {
  "kernelspec": {
   "display_name": "Python 3",
   "language": "python",
   "name": "python3"
  },
  "language_info": {
   "codemirror_mode": {
    "name": "ipython",
    "version": 3
   },
   "file_extension": ".py",
   "mimetype": "text/x-python",
   "name": "python",
   "nbconvert_exporter": "python",
   "pygments_lexer": "ipython3",
   "version": "3.4.3"
  }
 },
 "nbformat": 4,
 "nbformat_minor": 0
}
