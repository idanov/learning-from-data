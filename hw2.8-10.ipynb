{
 "cells": [
  {
   "cell_type": "code",
   "execution_count": 1,
   "metadata": {
    "collapsed": true
   },
   "outputs": [],
   "source": [
    "%matplotlib inline\n",
    "import matplotlib.pyplot as plt\n",
    "import numpy as np\n",
    "import matplotlib.mlab as mlab\n",
    "import math"
   ]
  },
  {
   "cell_type": "code",
   "execution_count": 2,
   "metadata": {
    "collapsed": false
   },
   "outputs": [],
   "source": [
    "np.random.seed(900)"
   ]
  },
  {
   "cell_type": "code",
   "execution_count": 3,
   "metadata": {
    "collapsed": true
   },
   "outputs": [],
   "source": [
    "def features_transform_basic(X):\n",
    "    return np.hstack((np.ones((X.shape[0], 1)), X))"
   ]
  },
  {
   "cell_type": "code",
   "execution_count": 4,
   "metadata": {
    "collapsed": true
   },
   "outputs": [],
   "source": [
    "def features_transform_nonlinear(X):\n",
    "    return np.column_stack((np.ones((X.shape[0], 1)), X, np.array(X[:,0]*X[:,1]).T, X*X))"
   ]
  },
  {
   "cell_type": "code",
   "execution_count": 5,
   "metadata": {
    "collapsed": true
   },
   "outputs": [],
   "source": [
    "def features_transform_f(X):\n",
    "    return np.hstack((np.ones((X.shape[0], 1)), X*X))"
   ]
  },
  {
   "cell_type": "code",
   "execution_count": 6,
   "metadata": {
    "collapsed": true
   },
   "outputs": [],
   "source": [
    "def linear_regression(X, y):\n",
    "    # Closed form solution to linear regression\n",
    "    return np.linalg.pinv(X).dot(y)"
   ]
  },
  {
   "cell_type": "code",
   "execution_count": 7,
   "metadata": {
    "collapsed": true
   },
   "outputs": [],
   "source": [
    "def plot_dataset(D, y, w):\n",
    "    # Get slope-intercept form (fline) out of the standard form (w)\n",
    "    fline = lambda x: -(w[0] + w[1] * x) / w[2]\n",
    "#     plt.plot([-1, 1], [fline(-1), fline(1)])\n",
    "    plt.scatter(D[(y <= 0),1], D[(y <= 0),2], c='r')\n",
    "    plt.scatter(D[(y > 0),1], D[(y > 0),2], c='g')\n",
    "    plt.show()"
   ]
  },
  {
   "cell_type": "code",
   "execution_count": 8,
   "metadata": {
    "collapsed": true
   },
   "outputs": [],
   "source": [
    "def err(D, w, y_real):\n",
    "    diff = np.sign(D.dot(w)) != y_real\n",
    "    return np.mean(diff)"
   ]
  },
  {
   "cell_type": "code",
   "execution_count": 9,
   "metadata": {
    "collapsed": true
   },
   "outputs": [],
   "source": [
    "def add_noise(y, fraction = 0.1):\n",
    "    idx = (np.random.random_sample((y.shape[0],)) <= 0.1)\n",
    "    y[idx] = - y[idx]\n",
    "    return y"
   ]
  },
  {
   "cell_type": "code",
   "execution_count": 10,
   "metadata": {
    "collapsed": true
   },
   "outputs": [],
   "source": [
    "def experiment(d, N_train, N_test, transform = features_transform_basic, h_w = None):\n",
    "    # Generate train and test data\n",
    "    D_train = np.random.uniform(-1, 1, (N_train, d))\n",
    "    X_f_train = features_transform_f(D_train)\n",
    "    D_test = np.random.uniform(-1, 1, (N_test, d))\n",
    "    X_f_test = features_transform_f(D_test)\n",
    "    # Weights for f given quadratic features\n",
    "    w = np.array([-0.6, 1, 1])\n",
    "    # Label the data\n",
    "    y_train = add_noise(np.sign(X_f_train.dot(w)))\n",
    "    y_test = add_noise(np.sign(X_f_test.dot(w)))\n",
    "    \n",
    "    # Train the model\n",
    "    X_transformed_train = transform(D_train)\n",
    "    X_transformed_test = transform(D_test)\n",
    "    w_tr = linear_regression(X_transformed_train, y_train)\n",
    "    # Plot the training set with the learned decision boundry\n",
    "#     plot_dataset(D_train, y_train, w_tr)\n",
    "    E_agree = None\n",
    "    if h_w is not None:\n",
    "        E_agree = err(X_transformed_test, h_w, np.sign(X_transformed_test.dot(w_tr)))\n",
    "\n",
    "    # Calculate E_in and E_out\n",
    "    E_in = err(X_transformed_train, w_tr, y_train)\n",
    "    E_out = err(X_transformed_test, w_tr, y_test)\n",
    "    return np.array([E_in, E_out, E_agree])"
   ]
  },
  {
   "cell_type": "code",
   "execution_count": 11,
   "metadata": {
    "collapsed": true
   },
   "outputs": [],
   "source": [
    "d = 2\n",
    "R = 1000\n",
    "N_test = 1000\n",
    "N_train = 1000"
   ]
  },
  {
   "cell_type": "code",
   "execution_count": 12,
   "metadata": {
    "collapsed": false
   },
   "outputs": [
    {
     "name": "stdout",
     "output_type": "stream",
     "text": [
      "E_in = 0.504966\n",
      "E_out = 0.520803\n"
     ]
    }
   ],
   "source": [
    "# 2.8\n",
    "E = np.array([experiment(d, N_train, N_test) for i in range(0, R)])\n",
    "E = E[:,[0,1]]\n",
    "\n",
    "E_in_avg, E_out_avg = np.mean(E, axis=0)\n",
    "print(\"E_in =\", E_in_avg)\n",
    "print(\"E_out =\", E_out_avg)"
   ]
  },
  {
   "cell_type": "code",
   "execution_count": 13,
   "metadata": {
    "collapsed": false
   },
   "outputs": [
    {
     "name": "stdout",
     "output_type": "stream",
     "text": [
      "E_in = 0.123807 , E_out = 0.12649 , E_agree = 0.037695\n",
      "E_in = 0.123913 , E_out = 0.126345 , E_agree = 0.338427\n",
      "E_in = 0.123724 , E_out = 0.126432 , E_agree = 0.338228\n",
      "E_in = 0.123768 , E_out = 0.126201 , E_agree = 0.367616\n",
      "E_in = 0.124198 , E_out = 0.127011 , E_agree = 0.438362\n"
     ]
    }
   ],
   "source": [
    "# 2.9 and 2.10\n",
    "weight_list = [\n",
    "    np.array([-1, -0.05, 0.08, 0.13, 1.5, 1.5]),\n",
    "    np.array([-1, -0.05, 0.08, 0.13, 1.5, 15]),\n",
    "    np.array([-1, -0.05, 0.08, 0.13, 15, 1.5]),\n",
    "    np.array([-1, -1.5, 0.08, 0.13, 0.05, 0.05]),\n",
    "    np.array([-1, -0.05, 0.08, 1.5, 0.15, 0.15])\n",
    "]\n",
    "\n",
    "for w_curr in weight_list:\n",
    "    E = np.array([experiment(d, N_train, N_test, features_transform_nonlinear, w_curr) for i in range(0, R)])\n",
    "    E_in_avg, E_out_avg, E_agree = np.mean(E, axis=0)\n",
    "    print(\"E_in =\", E_in_avg, \", E_out =\", E_out_avg, \", E_agree =\", E_agree)"
   ]
  }
 ],
 "metadata": {
  "kernelspec": {
   "display_name": "Python 3",
   "language": "python",
   "name": "python3"
  },
  "language_info": {
   "codemirror_mode": {
    "name": "ipython",
    "version": 3
   },
   "file_extension": ".py",
   "mimetype": "text/x-python",
   "name": "python",
   "nbconvert_exporter": "python",
   "pygments_lexer": "ipython3",
   "version": "3.4.3"
  }
 },
 "nbformat": 4,
 "nbformat_minor": 0
}
