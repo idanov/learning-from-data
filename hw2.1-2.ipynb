{
 "cells": [
  {
   "cell_type": "code",
   "execution_count": 1,
   "metadata": {
    "collapsed": true
   },
   "outputs": [],
   "source": [
    "%matplotlib inline\n",
    "import matplotlib.pyplot as plt\n",
    "import numpy as np\n",
    "import matplotlib.mlab as mlab\n",
    "import math"
   ]
  },
  {
   "cell_type": "code",
   "execution_count": 2,
   "metadata": {
    "collapsed": true
   },
   "outputs": [],
   "source": [
    "def experiment(N, T):\n",
    "    coins = np.random.binomial(1, 0.5, (N, T))\n",
    "    v = np.mean(coins, axis = 0)\n",
    "    return np.array([v[0], v.min(), np.random.choice(v)])"
   ]
  },
  {
   "cell_type": "code",
   "execution_count": 3,
   "metadata": {
    "collapsed": false
   },
   "outputs": [],
   "source": [
    "N = 1000\n",
    "T = 10\n",
    "R = 100000\n",
    "res = np.array([experiment(N, T) for i in range(0, R)])"
   ]
  },
  {
   "cell_type": "code",
   "execution_count": 4,
   "metadata": {
    "collapsed": false
   },
   "outputs": [
    {
     "name": "stdout",
     "output_type": "stream",
     "text": [
      "[ 0.50005312  0.4756819   0.50001815]\n"
     ]
    }
   ],
   "source": [
    "mu = np.mean(res, axis = 0)\n",
    "print(mu)"
   ]
  },
  {
   "cell_type": "code",
   "execution_count": 5,
   "metadata": {
    "collapsed": false
   },
   "outputs": [
    {
     "name": "stdout",
     "output_type": "stream",
     "text": [
      "[ 0.01585477  0.00928475  0.01584109]\n"
     ]
    }
   ],
   "source": [
    "var = np.var(res, axis = 0)\n",
    "sigma = np.sqrt(var)\n",
    "print(sigma)"
   ]
  },
  {
   "cell_type": "code",
   "execution_count": 6,
   "metadata": {
    "collapsed": false
   },
   "outputs": [
    {
     "data": {
      "image/png": "[encoded data removed]",
      "text/plain": [
       "<matplotlib.figure.Figure at 0x107adbe80>"
      ]
     },
     "metadata": {},
     "output_type": "display_data"
    }
   ],
   "source": [
    "x = np.linspace(np.min(mu - 3*sigma), np.max(mu + 3*sigma), 100)\n",
    "plt.plot(x, mlab.normpdf(x, mu[0], sigma[0]), label = r'$\\nu_{1}$')\n",
    "plt.plot(x, mlab.normpdf(x, mu[1], sigma[1]), label = r'$\\nu_{min}$')\n",
    "plt.plot(x, mlab.normpdf(x, mu[2], sigma[2]), label = r'$\\nu_{rand}$')\n",
    "plt.legend()\n",
    "plt.show()"
   ]
  }
 ],
 "metadata": {
  "kernelspec": {
   "display_name": "Python 3",
   "language": "python",
   "name": "python3"
  },
  "language_info": {
   "codemirror_mode": {
    "name": "ipython",
    "version": 3
   },
   "file_extension": ".py",
   "mimetype": "text/x-python",
   "name": "python",
   "nbconvert_exporter": "python",
   "pygments_lexer": "ipython3",
   "version": "3.4.3"
  }
 },
 "nbformat": 4,
 "nbformat_minor": 0
}
