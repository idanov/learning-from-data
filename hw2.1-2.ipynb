{
 "cells": [
  {
   "cell_type": "code",
   "execution_count": 12,
   "metadata": {
    "collapsed": true
   },
   "outputs": [],
   "source": [
    "%matplotlib inline\n",
    "import matplotlib.pyplot as plt\n",
    "import numpy as np\n",
    "import matplotlib.mlab as mlab\n",
    "import math"
   ]
  },
  {
   "cell_type": "code",
   "execution_count": 13,
   "metadata": {
    "collapsed": true
   },
   "outputs": [],
   "source": [
    "def experiment(N, T):\n",
    "    coins = np.random.binomial(T, 0.5, N) / float(T)\n",
    "    return np.array([coins[0], coins.min(), np.random.choice(coins)])"
   ]
  },
  {
   "cell_type": "code",
   "execution_count": 14,
   "metadata": {
    "collapsed": false
   },
   "outputs": [],
   "source": [
    "N = 1000\n",
    "T = 10\n",
    "R = 100000\n",
    "res = np.array([experiment(N, T) for i in range(0, R)])"
   ]
  },
  {
   "cell_type": "code",
   "execution_count": 15,
   "metadata": {
    "collapsed": false
   },
   "outputs": [
    {
     "name": "stdout",
     "output_type": "stream",
     "text": [
      "[ 0.499831  0.037466  0.50067 ]\n"
     ]
    }
   ],
   "source": [
    "mu = np.mean(res, axis = 0)\n",
    "print(mu)"
   ]
  },
  {
   "cell_type": "code",
   "execution_count": 16,
   "metadata": {
    "collapsed": false
   },
   "outputs": [
    {
     "name": "stdout",
     "output_type": "stream",
     "text": [
      "[ 0.1585972   0.04840557  0.15786308]\n"
     ]
    }
   ],
   "source": [
    "var = np.var(res, axis = 0)\n",
    "sigma = np.sqrt(var)\n",
    "print(sigma)"
   ]
  },
  {
   "cell_type": "code",
   "execution_count": 17,
   "metadata": {
    "collapsed": false
   },
   "outputs": [
    {
     "data": {
      "image/png": "[encoded data removed]",
      "text/plain": [
       "<matplotlib.figure.Figure at 0x107f58550>"
      ]
     },
     "metadata": {},
     "output_type": "display_data"
    }
   ],
   "source": [
    "x = np.linspace(np.min(mu - 3*sigma), np.max(mu + 3*sigma), 100)\n",
    "plt.plot(x, mlab.normpdf(x, mu[0], sigma[0]), label = r'$\\nu_{1}$')\n",
    "plt.plot(x, mlab.normpdf(x, mu[1], sigma[1]), label = r'$\\nu_{min}$')\n",
    "plt.plot(x, mlab.normpdf(x, mu[2], sigma[2]), label = r'$\\nu_{rand}$')\n",
    "plt.legend()\n",
    "plt.show()"
   ]
  }
 ],
 "metadata": {
  "kernelspec": {
   "display_name": "Python 3",
   "language": "python",
   "name": "python3"
  },
  "language_info": {
   "codemirror_mode": {
    "name": "ipython",
    "version": 3
   },
   "file_extension": ".py",
   "mimetype": "text/x-python",
   "name": "python",
   "nbconvert_exporter": "python",
   "pygments_lexer": "ipython3",
   "version": "3.4.3"
  }
 },
 "nbformat": 4,
 "nbformat_minor": 0
}
