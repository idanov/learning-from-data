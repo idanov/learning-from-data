{
 "cells": [
  {
   "cell_type": "code",
   "execution_count": 1,
   "metadata": {
    "collapsed": true
   },
   "outputs": [],
   "source": [
    "%matplotlib inline\n",
    "import matplotlib.pyplot as plt\n",
    "import numpy as np\n",
    "import matplotlib.mlab as mlab\n",
    "import math"
   ]
  },
  {
   "cell_type": "code",
   "execution_count": 2,
   "metadata": {
    "collapsed": true
   },
   "outputs": [],
   "source": [
    "np.random.seed(900)"
   ]
  },
  {
   "cell_type": "code",
   "execution_count": 3,
   "metadata": {
    "collapsed": true
   },
   "outputs": [],
   "source": [
    "def generate_f():\n",
    "    # Generate a random line (function f)\n",
    "    points = np.random.uniform(-1, +1, (d, d))\n",
    "    # Standard form of line equation Ax + By - C = 0 (C is conveniently set to 1)\n",
    "    w = np.linalg.inv(points).dot(np.ones(d))\n",
    "    w = np.hstack((-1, w)) # Add -C to the params\n",
    "    return w"
   ]
  },
  {
   "cell_type": "code",
   "execution_count": 4,
   "metadata": {
    "collapsed": false
   },
   "outputs": [],
   "source": [
    "def PLA(X_train, y_train, w_init):\n",
    "    # Run PLA\n",
    "    N = X_train.shape[0]\n",
    "    d = X_train.shape[1]\n",
    "    w_tr = w_init\n",
    "    i = 0\n",
    "    while True:\n",
    "        i = i + 1\n",
    "        y_pred = np.sign(X_train.dot(w_tr))\n",
    "        if np.all(y_pred == y_train):\n",
    "            break;\n",
    "        idx = np.random.choice((y_train != y_pred).nonzero()[0])\n",
    "        w_tr = w_tr + y_train[idx] * X_train[idx,:]\n",
    "    return (i, w_tr)"
   ]
  },
  {
   "cell_type": "code",
   "execution_count": 5,
   "metadata": {
    "collapsed": true
   },
   "outputs": [],
   "source": [
    "def linear_regression(X, y):\n",
    "    # Closed form solution to linear regression\n",
    "    return np.linalg.pinv(X).dot(y)"
   ]
  },
  {
   "cell_type": "code",
   "execution_count": 6,
   "metadata": {
    "collapsed": true
   },
   "outputs": [],
   "source": [
    "def plot_dataset(D, y, w):\n",
    "    # Get slope-intercept form (fline) out of the standard form (w)\n",
    "    fline = lambda x: -(w[0] + w[1] * x) / w[2]\n",
    "    plt.plot([-1, 1], [fline(-1), fline(1)])\n",
    "    plt.scatter(D[(y <= 0),1], D[(y <= 0),2], c='r')\n",
    "    plt.scatter(D[(y > 0),1], D[(y > 0),2], c='g')\n",
    "    plt.show()"
   ]
  },
  {
   "cell_type": "code",
   "execution_count": 7,
   "metadata": {
    "collapsed": true
   },
   "outputs": [],
   "source": [
    "def err(D, w, y_real):\n",
    "    diff = np.sign(D.dot(w)) != y_real\n",
    "    return np.mean(diff)"
   ]
  },
  {
   "cell_type": "code",
   "execution_count": 8,
   "metadata": {
    "collapsed": true
   },
   "outputs": [],
   "source": [
    "def experiment(d, N_train, N_test):\n",
    "    # Generate train and test data\n",
    "    D_train = np.random.uniform(-1, 1, (N_train, d))\n",
    "    D_train = np.hstack((np.ones((N_train, 1)), D_train)) # Add auxiliary dimension\n",
    "    D_test = np.random.uniform(-1, 1, (N_test, d))\n",
    "    D_test = np.hstack((np.ones((N_test, 1)), D_test)) # Add auxiliary dimension\n",
    "    # Generate f\n",
    "    w = generate_f()\n",
    "    # Label the data\n",
    "    y_train = np.sign(D_train.dot(w))\n",
    "    y_test = np.sign(D_test.dot(w))\n",
    "    # Train the model\n",
    "    w_tr = linear_regression(D_train, y_train)\n",
    "    # Plot the training set with the learned decision boundry\n",
    "#     plot_dataset(D_train, y_train, w_tr)\n",
    "    # Calculate E_in and E_out\n",
    "    E_in = err(D_train, w_tr, y_train)\n",
    "    E_out = err(D_test, w_tr, y_test)\n",
    "    return np.array([E_in, E_out])"
   ]
  },
  {
   "cell_type": "code",
   "execution_count": 9,
   "metadata": {
    "collapsed": true
   },
   "outputs": [],
   "source": [
    "def experiment2(d, N_train, N_test):\n",
    "    # Generate train and test data\n",
    "    D_train = np.random.uniform(-1, 1, (N_train, d))\n",
    "    D_train = np.hstack((np.ones((N_train, 1)), D_train)) # Add auxiliary dimension\n",
    "    D_test = np.random.uniform(-1, 1, (N_test, d))\n",
    "    D_test = np.hstack((np.ones((N_test, 1)), D_test)) # Add auxiliary dimension\n",
    "    # Generate f\n",
    "    w = generate_f()\n",
    "    # Label the data\n",
    "    y_train = np.sign(D_train.dot(w))\n",
    "    y_test = np.sign(D_test.dot(w))\n",
    "    # Train the model\n",
    "    w_tr = linear_regression(D_train, y_train)\n",
    "    iters, w_pla_tr = PLA(D_train, y_train, w_tr)\n",
    "    # Plot the training set with the learned decision boundry\n",
    "#     plot_dataset(D_train, y_train, w_pla_tr)\n",
    "    # Calculate E_in and E_out\n",
    "    E_in = err(D_train, w_pla_tr, y_train)\n",
    "    E_out = err(D_test, w_pla_tr, y_test)\n",
    "    return np.array([iters, E_in, E_out])"
   ]
  },
  {
   "cell_type": "code",
   "execution_count": 10,
   "metadata": {
    "collapsed": true
   },
   "outputs": [],
   "source": [
    "d = 2\n",
    "R = 1000\n",
    "N_test = 1000\n",
    "N_train = 100"
   ]
  },
  {
   "cell_type": "code",
   "execution_count": 11,
   "metadata": {
    "collapsed": false
   },
   "outputs": [
    {
     "name": "stdout",
     "output_type": "stream",
     "text": [
      "E_in = 0.04033\n",
      "E_out = 0.048366\n"
     ]
    }
   ],
   "source": [
    "# 2.5 and 2.6\n",
    "E = np.array([experiment(d, N_train, N_test) for i in range(0, R)])\n",
    "E_in_avg, E_out_avg = np.mean(E, axis=0)\n",
    "print(\"E_in =\", E_in_avg)\n",
    "print(\"E_out =\", E_out_avg)"
   ]
  },
  {
   "cell_type": "code",
   "execution_count": 12,
   "metadata": {
    "collapsed": false
   },
   "outputs": [
    {
     "name": "stdout",
     "output_type": "stream",
     "text": [
      "iters = 4.759\n",
      "E_in = 0.0\n",
      "E_out = 0.102465\n"
     ]
    }
   ],
   "source": [
    "# 2.7\n",
    "N_train = 10\n",
    "E = np.array([experiment2(d, N_train, N_test) for i in range(0, R)])\n",
    "iters, E_in_avg, E_out_avg = np.mean(E, axis=0)\n",
    "print(\"iters =\", iters)\n",
    "print(\"E_in =\", E_in_avg)\n",
    "print(\"E_out =\", E_out_avg)"
   ]
  }
 ],
 "metadata": {
  "kernelspec": {
   "display_name": "Python 3",
   "language": "python",
   "name": "python3"
  },
  "language_info": {
   "codemirror_mode": {
    "name": "ipython",
    "version": 3
   },
   "file_extension": ".py",
   "mimetype": "text/x-python",
   "name": "python",
   "nbconvert_exporter": "python",
   "pygments_lexer": "ipython3",
   "version": "3.4.3"
  }
 },
 "nbformat": 4,
 "nbformat_minor": 0
}
