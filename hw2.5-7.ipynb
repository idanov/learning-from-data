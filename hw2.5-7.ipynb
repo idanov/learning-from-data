{
 "cells": [
  {
   "cell_type": "code",
   "execution_count": null,
   "metadata": {},
   "outputs": [],
   "source": [
    "%matplotlib inline\n",
    "import matplotlib.pyplot as plt\n",
    "import numpy as np\n",
    "import matplotlib.mlab as mlab\n",
    "import math"
   ]
  },
  {
   "cell_type": "code",
   "execution_count": 2,
   "metadata": {},
   "outputs": [],
   "source": [
    "np.random.seed(900)"
   ]
  },
  {
   "cell_type": "code",
   "execution_count": 3,
   "metadata": {},
   "outputs": [],
   "source": [
    "d = 2\n",
    "N_train = 100\n",
    "N_test = 1000"
   ]
  },
  {
   "cell_type": "code",
   "execution_count": 4,
   "metadata": {},
   "outputs": [],
   "source": [
    "def generate_fline():\n",
    "    D_pivot = np.random.uniform(-1, 1, (d, d))\n",
    "    m = np.divide.reduce(np.subtract.reduce(D_pivot))\n",
    "    b = D_pivot[0,1] - m * D_pivot[0,0]\n",
    "    return lambda x: m * x + b"
   ]
  },
  {
   "cell_type": "code",
   "execution_count": 5,
   "metadata": {},
   "outputs": [],
   "source": [
    "def label_data(D, fline):\n",
    "    vfunc = np.vectorize(fline)\n",
    "    return np.sign(D[:,1] - vfunc(D[:,0]))"
   ]
  },
  {
   "cell_type": "code",
   "execution_count": 6,
   "metadata": {},
   "outputs": [],
   "source": [
    "def linear_regression(X, y):\n",
    "    X = np.hstack((np.ones((X.shape[0], 1)), X))\n",
    "    return np.linalg.pinv(X).dot(y)"
   ]
  },
  {
   "cell_type": "code",
   "execution_count": 7,
   "metadata": {},
   "outputs": [],
   "source": [
    "def lr_output(X, w):\n",
    "    X = np.hstack((np.ones((X.shape[0], 1)), X))\n",
    "    return X.dot(w)"
   ]
  },
  {
   "cell_type": "code",
   "execution_count": 8,
   "metadata": {},
   "outputs": [],
   "source": [
    "def plot_dataset(D, y, fline):\n",
    "    plt.plot([-1, 1], [fline(-1), fline(1)])\n",
    "    plt.scatter(D[(y <= 0),0], D[(y <= 0),1], c='r')\n",
    "    plt.scatter(D[(y > 0),0], D[(y > 0),1], c='g')\n",
    "    plt.show()"
   ]
  },
  {
   "cell_type": "code",
   "execution_count": 9,
   "metadata": {},
   "outputs": [],
   "source": [
    "def err(D, w, y_real):\n",
    "    diff = np.sign(lr_output(D, w)) == y_real\n",
    "    return diff.dot(diff) / diff.shape[0]"
   ]
  },
  {
   "cell_type": "code",
   "execution_count": 10,
   "metadata": {},
   "outputs": [],
   "source": [
    "def experiment():\n",
    "    # Generate train and test data\n",
    "    D_train = np.random.uniform(-1, 1, (N_train, d))\n",
    "    D_test = np.random.uniform(-1, 1, (N_test, d))\n",
    "    # Generate f\n",
    "    fline = generate_fline()\n",
    "    # Label the data\n",
    "    y_train = label_data(D_train, fline)\n",
    "    y_test = label_data(D_test, fline)\n",
    "    # Find weights and g\n",
    "    w = linear_regression(D_train, y_train)\n",
    "    gline = lambda x: -(w[0] + w[1] * x) / w[2]\n",
    "    # Calculate E_in and E_out\n",
    "    E_in = err(D_train, w, y_train)\n",
    "    E_out = err(D_test, w, y_test)\n",
    "    return np.array([E_in, E_out])"
   ]
  },
  {
   "cell_type": "code",
   "execution_count": 11,
   "metadata": {},
   "outputs": [],
   "source": [
    "E = np.array([experiment() for i in range(0, 1000)])"
   ]
  },
  {
   "cell_type": "code",
   "execution_count": 12,
   "metadata": {},
   "outputs": [],
   "source": [
    "E_in_avg, E_out_avg = np.mean(E, axis=0)\n",
    "print(\"E_in =\", E_in_avg)\n",
    "print(\"E_out =\", E_out_avg)"
   ]
  },
  {
   "cell_type": "code",
   "execution_count": null,
   "metadata": {},
   "outputs": [],
   "source": [
    ""
   ]
  }
 ],
 "metadata": {
  "kernelspec": {
   "display_name": "Python 3",
   "language": "python",
   "name": "python3"
  },
  "language_info": {
   "codemirror_mode": {
    "name": "ipython",
    "version": 3.0
   },
   "file_extension": ".py",
   "mimetype": "text/x-python",
   "name": "python",
   "nbconvert_exporter": "python",
   "pygments_lexer": "ipython3",
   "version": "3.4.3"
  }
 },
 "nbformat": 4,
 "nbformat_minor": 0
}